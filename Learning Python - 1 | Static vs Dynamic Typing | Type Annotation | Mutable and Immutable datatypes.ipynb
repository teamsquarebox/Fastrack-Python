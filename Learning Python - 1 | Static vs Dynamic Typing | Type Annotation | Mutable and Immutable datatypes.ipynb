{
 "cells": [
  {
   "cell_type": "markdown",
   "metadata": {},
   "source": [
    "<hr>\n",
    "\n",
    "## Python follows Dynamic Typing \n",
    "\n",
    "<hr>"
   ]
  },
  {
   "cell_type": "markdown",
   "metadata": {},
   "source": [
    "#### Dynamic Typing:\n",
    "\n",
    "    * Data type of variable is determined at runtime.\n",
    "    * We need not declare the type of variable initially.\n",
    "    * Followed by Java Script, Python and Ruby."
   ]
  },
  {
   "cell_type": "code",
   "execution_count": 3,
   "metadata": {},
   "outputs": [
    {
     "name": "stdout",
     "output_type": "stream",
     "text": [
      "Age as integer : 10\n",
      "Age as floating point : 10.5\n",
      "Age as String : Ten\n"
     ]
    }
   ],
   "source": [
    "# No need to decalre the type of variable\n",
    "\n",
    "# age : as integer\n",
    "age = 10\n",
    "\n",
    "print(f\"Age as integer : {age}\")\n",
    "\n",
    "# age : as floating point -- may be he is 10 years 6 months\n",
    "age = 10.5\n",
    "\n",
    "print(f\"Age as floating point : {age}\")\n",
    "\n",
    "# age : as string -- if some one fills it as string\n",
    "age = \"Ten\"\n",
    "\n",
    "print(f\"Age as String : {age}\")"
   ]
  },
  {
   "cell_type": "markdown",
   "metadata": {},
   "source": [
    "##### If you see in above cases, we have not defined the type of variable but python understood them well at run time."
   ]
  },
  {
   "cell_type": "markdown",
   "metadata": {},
   "source": [
    "<hr>\n",
    "\n",
    "## Type Annotation\n",
    "\n",
    "<hr>"
   ]
  },
  {
   "cell_type": "markdown",
   "metadata": {},
   "source": [
    "#### Type Annotation:\n",
    "\n",
    "    * Specifies the data type assosiated with variable or return type of a function.\n",
    "    * Just only a representation for programmer. Python doesn't follow this blindly.\n",
    "    * Generates linter warning if we assign variable to different datatype after annotation."
   ]
  },
  {
   "cell_type": "code",
   "execution_count": 4,
   "metadata": {},
   "outputs": [
    {
     "name": "stdout",
     "output_type": "stream",
     "text": [
      "No. of students as integer : 10\n",
      "No. of students as String : Ten\n"
     ]
    }
   ],
   "source": [
    "# Type annotating no_of_students to int\n",
    "\n",
    "no_of_students : int = 10\n",
    "    \n",
    "print(f\"No. of students as integer : {no_of_students}\")\n",
    "\n",
    "no_of_students = \"Ten\"\n",
    "\n",
    "print(f\"No. of students as String : {no_of_students}\")"
   ]
  },
  {
   "cell_type": "markdown",
   "metadata": {},
   "source": [
    "##### If you see i the above case, type annotation is only for representation to programmer and not for python."
   ]
  },
  {
   "cell_type": "code",
   "execution_count": 10,
   "metadata": {},
   "outputs": [
    {
     "name": "stdout",
     "output_type": "stream",
     "text": [
      "Can you guess if it generates error ??\n",
      "No. of students is : Ten\n"
     ]
    }
   ],
   "source": [
    "# quick fun check \n",
    "# But as a programmer if a var. is type annotated we must make sure we should stick to it as a beter practice\n",
    "no_of_student : int = \"Ten\"\n",
    "\n",
    "print(f\"Can you guess if it generates error ??\\nNo. of students is : {no_of_student}\")"
   ]
  },
  {
   "cell_type": "markdown",
   "metadata": {},
   "source": [
    "<hr>\n",
    "\n",
    "## Mutable and Immutable datatypes\n",
    "\n",
    "<hr>"
   ]
  },
  {
   "cell_type": "markdown",
   "metadata": {},
   "source": [
    "#### Mutable datatypes:\n",
    "    * Values that can be changed at that memory location.\n",
    "    * Lists, Sets, Dicts are mutable.\n",
    "    \n",
    "#### Immutable datatypes:\n",
    "    * Values that can't be changed at that memory location.\n",
    "    * Built in data types int, bool, string, and also tuple are immutable."
   ]
  },
  {
   "cell_type": "code",
   "execution_count": 15,
   "metadata": {},
   "outputs": [
    {
     "name": "stdout",
     "output_type": "stream",
     "text": [
      "Memory location of no_of_friends variable :  4487683312\n",
      "Memory location of no_of_friends variable after addition :  4487683344\n"
     ]
    }
   ],
   "source": [
    "# Immutable example with an integer.\n",
    "# If value is changed new memory location is assigned.\n",
    "# Value at that location can't be changed.\n",
    "no_of_friends = 20\n",
    "\n",
    "# id gives the memory location where that variable(object) in python resides\n",
    "print(\"Memory location of no_of_friends variable : \", id(no_of_friends))\n",
    "\n",
    "# Similar to no_of_friends = no_of_friends + 1\n",
    "no_of_friends += 1\n",
    "print(\"Memory location of no_of_friends variable after addition : \", id(no_of_friends))"
   ]
  },
  {
   "cell_type": "code",
   "execution_count": 17,
   "metadata": {},
   "outputs": [
    {
     "name": "stdout",
     "output_type": "stream",
     "text": [
      "Memory location of friends_list :  4591205632\n",
      "Memory location of friends_list after addition :  4591205632\n"
     ]
    }
   ],
   "source": [
    "# Mutable example with a list.\n",
    "# Value at that location can be changed.\n",
    "\n",
    "friends_list = [\"Gift\",\"Harsha\",\"Uday\",\"Ram\"]\n",
    "# id gives the memory location where that list(object) in python resides\n",
    "print(\"Memory location of friends_list : \", id(friends_list))\n",
    "\n",
    "# Simialr to adding an elemnt to array\n",
    "friends_list.append([\"Kabilesh\"])\n",
    "print(\"Memory location of friends_list after addition : \", id(friends_list))"
   ]
  },
  {
   "cell_type": "markdown",
   "metadata": {},
   "source": [
    "##### If you see in above cases, memory location for mutable is not changed.\n",
    "##### Memory location for immutable is changed as change can't happen at that location."
   ]
  },
  {
   "cell_type": "markdown",
   "metadata": {},
   "source": [
    "<hr>\n",
    "\n",
    "## Note:\n",
    "    If something is not clear, try that once again or reach to me.\n",
    "    Also if some topics in this are not discussed in the videos, they will be covered soon in future videos.\n",
    "\n",
    "<hr>"
   ]
  },
  {
   "cell_type": "markdown",
   "metadata": {},
   "source": [
    "<hr>\n",
    "\n",
    "## For better understanding please watch the video at Sqaure Box channel.\n",
    "\n",
    "\n",
    "### Please share with others who might find it useful.\n",
    "\n",
    "#### In case of any suggestions mail to: teamsquarebox@gmail.com\n",
    "\n",
    "<hr>"
   ]
  }
 ],
 "metadata": {
  "kernelspec": {
   "display_name": "Python 3",
   "language": "python",
   "name": "python3"
  },
  "language_info": {
   "codemirror_mode": {
    "name": "ipython",
    "version": 3
   },
   "file_extension": ".py",
   "mimetype": "text/x-python",
   "name": "python",
   "nbconvert_exporter": "python",
   "pygments_lexer": "ipython3",
   "version": "3.8.1"
  }
 },
 "nbformat": 4,
 "nbformat_minor": 4
}
