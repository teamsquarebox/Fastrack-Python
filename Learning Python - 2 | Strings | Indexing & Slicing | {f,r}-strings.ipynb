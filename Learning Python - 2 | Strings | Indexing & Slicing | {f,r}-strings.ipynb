{
 "cells": [
  {
   "cell_type": "markdown",
   "metadata": {},
   "source": [
    "<hr>\n",
    "\n",
    "## Python Strings\n",
    "\n",
    "<hr>"
   ]
  },
  {
   "cell_type": "markdown",
   "metadata": {},
   "source": [
    "#### Strings:\n",
    "\n",
    "    * Can be declared with single, double or triple quotes in python.\n",
    "    * string is built in imutable datatype."
   ]
  },
  {
   "cell_type": "code",
   "execution_count": 2,
   "metadata": {},
   "outputs": [
    {
     "name": "stdout",
     "output_type": "stream",
     "text": [
      "String Content :  Ajay\n",
      "Type of string :  <class 'str'>\n"
     ]
    }
   ],
   "source": [
    "# Declaration of a string\n",
    "\n",
    "name = \"Ajay\"\n",
    "\n",
    "print(f\"String Content : \", name)\n",
    "print(f\"Type of string : \", type(name))"
   ]
  },
  {
   "cell_type": "code",
   "execution_count": 3,
   "metadata": {},
   "outputs": [
    {
     "name": "stdout",
     "output_type": "stream",
     "text": [
      "Single quote string : A\"jay\"\n",
      "Double quote string : A'jay'\n",
      "Single quote string : \n",
      "We can write \n",
      "a very long name\n",
      "in multiple lines.\n",
      "\n"
     ]
    }
   ],
   "source": [
    "# single quote\n",
    "\n",
    "single_quote_name = 'A\"jay\"'\n",
    "\n",
    "double_quote_name = \"A'jay'\"\n",
    "\n",
    "triple_quote_name = \"\"\"\n",
    "We can write \n",
    "a very long name\n",
    "in multiple lines.\n",
    "\"\"\"\n",
    "\n",
    "print(f\"Single quote string : {single_quote_name}\")\n",
    "print(f\"Double quote string : {double_quote_name}\")\n",
    "print(f\"Single quote string : {triple_quote_name}\")"
   ]
  },
  {
   "cell_type": "markdown",
   "metadata": {},
   "source": [
    "##### If you see in above cases,  declaring string by means give same result.\n",
    "##### While using single quotes, double quotes can come in between and vice versa."
   ]
  },
  {
   "cell_type": "markdown",
   "metadata": {},
   "source": [
    "<hr>\n",
    "\n",
    "## String indexing and slicing\n",
    "\n",
    "<hr>"
   ]
  },
  {
   "cell_type": "markdown",
   "metadata": {},
   "source": [
    "#### String indexing:\n",
    "\n",
    "    * string[index] --> Gives a particular charecter.\n",
    "    \n",
    "#### String slicing:\n",
    "    * string[start : stop : step] --> Gives slice(part) of a string.\n",
    "    * start --> defaults to 0 (included).\n",
    "    * stop --> defaults to end_index (not included).\n",
    "    * step --> defaults to 1 --> the index number that is going to be incremented."
   ]
  },
  {
   "cell_type": "code",
   "execution_count": 8,
   "metadata": {},
   "outputs": [
    {
     "name": "stdout",
     "output_type": "stream",
     "text": [
      "==============================Indexing==============================\n",
      "name[0] :  G\n",
      "name[3] :  t\n",
      "name[-1]:  t\n",
      "==============================Slicing==============================\n",
      "Name from 0 to 2 : Gi\n",
      "Name from 0 to 3 : Gif\n",
      "Name from -3 to -1 : if\n",
      "Name from -1 to -3 : \n",
      "Name with dropping indices : Gi\n",
      "Name with dropping indices : ft\n",
      "Reverse a string : tfiG\n"
     ]
    }
   ],
   "source": [
    "name = \"Gift\"\n",
    "\n",
    "\n",
    "print(\"=\"*30, \"Indexing\", \"=\"*30, sep=\"\")\n",
    "print(f\"name[0] : \", name[0])\n",
    "print(f\"name[3] : \", name[3])\n",
    "print(f\"name[-1]: \", name[-1])\n",
    "\n",
    "print(\"=\"*30, \"Slicing\", \"=\"*30, sep=\"\")\n",
    "print(f\"Name from 0 to 2 : {name[0:2]}\")\n",
    "print(f\"Name from 0 to 3 : {name[0:3]}\")\n",
    "print(f\"Name from -3 to -1 : {name[-3:-1]}\")\n",
    "\n",
    "# This actually gives empty string as starting can't occur before ending\n",
    "print(f\"Name from -1 to -3 : {name[-1:-3]}\")\n",
    "\n",
    "print(f\"Name with dropping indices : {name[:2]}\")\n",
    "print(f\"Name with dropping indices : {name[2:]}\")\n",
    "\n",
    "# Reverse a string\n",
    "print(f\"Reverse a string : {name[::-1]}\")"
   ]
  },
  {
   "cell_type": "markdown",
   "metadata": {},
   "source": [
    "<hr>\n",
    "\n",
    "## Escape Sequences\n",
    "\n",
    "<hr>"
   ]
  },
  {
   "cell_type": "markdown",
   "metadata": {},
   "source": [
    "#### Escape Sequences:\n",
    "    * Any charecter that follows \\ will be escaped by python interpreter.\n",
    "    * \\n \\t \\' \\\" are some of popular escape sequences.\n"
   ]
  },
  {
   "cell_type": "code",
   "execution_count": 10,
   "metadata": {},
   "outputs": [
    {
     "name": "stdout",
     "output_type": "stream",
     "text": [
      "Hi\n",
      "How aye you?\n",
      "\"Pro\"grammer\n"
     ]
    }
   ],
   "source": [
    "# \\n adds a new line \n",
    "print(\"Hi\\nHow aye you?\")\n",
    "\n",
    "# printing double quotes even if string is declared using double quotes.\n",
    "# Used may be when all programmers used \"\" for all strings and you use \"\" to maintain consistency.\n",
    "print(\"\\\"Pro\\\"grammer\")"
   ]
  },
  {
   "cell_type": "markdown",
   "metadata": {},
   "source": [
    "<hr>\n",
    "\n",
    "## Formatted Strings & Raw Strings\n",
    "\n",
    "<hr>"
   ]
  },
  {
   "cell_type": "markdown",
   "metadata": {},
   "source": [
    "##### f-strings:\n",
    "    * Used to substitute variables in a string.\n",
    "    * Very useful during printing or dealing with dynamic urls.\n",
    "    \n",
    "##### r-strings:\n",
    "    * When we use raw strings first \\ doesn't work any more.\n",
    "    * Very useful with file paths and regular expressions."
   ]
  },
  {
   "cell_type": "code",
   "execution_count": 18,
   "metadata": {},
   "outputs": [
    {
     "name": "stdout",
     "output_type": "stream",
     "text": [
      "His name is Rajershi Gupta\n",
      "C:\\Users\\teamsquarebox\n"
     ]
    }
   ],
   "source": [
    "# f-string\n",
    "\n",
    "first = \"Rajershi\"\n",
    "last = \"Gupta\"\n",
    "\n",
    "print(f\"His name is {first} {last}\")\n",
    "\n",
    "# r-strings\n",
    "\n",
    "print(r\"C:\\Users\\teamsquarebox\")\n",
    "\n"
   ]
  },
  {
   "cell_type": "markdown",
   "metadata": {},
   "source": [
    "<hr>\n",
    "\n",
    "## Note:\n",
    "    If something is not clear, try that once again or reach to me.\n",
    "    Also if some topics in this are not discussed in the videos, they will be covered soon in future videos.\n",
    "\n",
    "<hr>"
   ]
  },
  {
   "cell_type": "markdown",
   "metadata": {},
   "source": [
    "<hr>\n",
    "\n",
    "## For better understanding please watch the video at Sqaure Box channel.\n",
    "\n",
    "\n",
    "### Please share with others who might find it useful.\n",
    "\n",
    "#### In case of any suggestions mail to: teamsquarebox@gmail.com\n",
    "\n",
    "<hr>"
   ]
  }
 ],
 "metadata": {
  "kernelspec": {
   "display_name": "Python 3",
   "language": "python",
   "name": "python3"
  },
  "language_info": {
   "codemirror_mode": {
    "name": "ipython",
    "version": 3
   },
   "file_extension": ".py",
   "mimetype": "text/x-python",
   "name": "python",
   "nbconvert_exporter": "python",
   "pygments_lexer": "ipython3",
   "version": "3.8.1"
  }
 },
 "nbformat": 4,
 "nbformat_minor": 4
}
